{
 "cells": [
  {
   "cell_type": "code",
   "execution_count": 43,
   "id": "ffc15477-bd2f-4c55-9461-112ad35a6912",
   "metadata": {},
   "outputs": [
    {
     "name": "stdout",
     "output_type": "stream",
     "text": [
      "mAHA bHARAT\n",
      "Bharat\n",
      "BharatBharatBharat\n",
      "Mera Bharat\n",
      "Mera Bharat Mahan\n"
     ]
    }
   ],
   "source": [
    "str = \"Maha Bharat\"\n",
    "print(str.swapcase())\n",
    "print(str[5: ])\n",
    "print(str[5: ] * 3)\n",
    "s2 = 'Mera '\n",
    "print(s2+ str[5: ]) \n",
    "s3 = ' Mahan'\n",
    "print(s2 + str[5: ] + s3)\n",
    "\n",
    "\n"
   ]
  },
  {
   "cell_type": "code",
   "execution_count": 64,
   "id": "56182d36-df37-46e0-a6cb-6e9c32b3e4c3",
   "metadata": {},
   "outputs": [
    {
     "name": "stdout",
     "output_type": "stream",
     "text": [
      "17\n",
      "14\n",
      "3\n"
     ]
    },
    {
     "data": {
      "text/plain": [
       "'Ta Ta Black Sheep'"
      ]
     },
     "execution_count": 64,
     "metadata": {},
     "output_type": "execute_result"
    }
   ],
   "source": [
    "S = \"Ba Ba Black Sheep\"\n",
    "print(len(S))\n",
    "print(S.find('e'))\n",
    "print(S.count('a'))\n",
    "S.replace('Ba', 'Ta')"
   ]
  },
  {
   "cell_type": "code",
   "execution_count": 74,
   "id": "dd59043a-26a1-4dff-baae-56f872a87d9f",
   "metadata": {},
   "outputs": [
    {
     "name": "stdin",
     "output_type": "stream",
     "text": [
      "Enter a string abccd\n"
     ]
    },
    {
     "name": "stdout",
     "output_type": "stream",
     "text": [
      "False\n"
     ]
    }
   ],
   "source": [
    "s = input(\"Enter a string\")\n",
    "def is_pallin(s):\n",
    "    return s == s[::-1]\n",
    "print(is_pallin(s))"
   ]
  },
  {
   "cell_type": "code",
   "execution_count": 96,
   "id": "e03c9fda-da70-4862-b04c-02ced0dd843b",
   "metadata": {},
   "outputs": [
    {
     "name": "stdin",
     "output_type": "stream",
     "text": [
      "Enter the name of the student:  atharv\n",
      "Enter the roll number:  2023\n",
      "Enter the Maths marks:  45\n"
     ]
    },
    {
     "name": "stdout",
     "output_type": "stream",
     "text": [
      "Name: atharv\n",
      "Roll Number: 2023\n",
      "Marks: 45\n",
      "Grade Point: 5\n",
      "Remarks: FAIL\n"
     ]
    }
   ],
   "source": [
    "name = input(\"Enter the name of the student: \")\n",
    "roll_number = input(\"Enter the roll number: \")\n",
    "marks = int(input(\"Enter the Maths marks: \"))\n",
    "\n",
    "if marks >= 90:\n",
    "    grade = 10 \n",
    "    remarks = \"OUTSTANDING\"\n",
    "elif marks >= 80:\n",
    "    grade = 9 \n",
    "    remarks = \"VERY GOOD\"\n",
    "elif marks >= 70:\n",
    "    grade = 8\n",
    "    remarks = \"GOOD\"\n",
    "elif marks >= 60:\n",
    "    grade = 7 \n",
    "    remarks = \"AVERAGE\"\n",
    "elif marks >= 50:\n",
    "    grade = 6\n",
    "    remarks = \"PASS\"\n",
    "else:\n",
    "    grade = 5\n",
    "    remarks = \"FAIL\"\n",
    "\n",
    "print(\"Name:\", name)\n",
    "print(\"Roll Number:\", roll_number)\n",
    "print(\"Marks:\", marks)\n",
    "print(\"Grade Point:\", grade)\n",
    "print(\"Remarks:\", remarks)\n"
   ]
  },
  {
   "cell_type": "code",
   "execution_count": 120,
   "id": "181c0a7e-585e-4a75-86a7-2490ca3b6f20",
   "metadata": {},
   "outputs": [
    {
     "name": "stdin",
     "output_type": "stream",
     "text": [
      "Enter a 5\n",
      "Enter b 5\n",
      "Enter c 4\n"
     ]
    },
    {
     "name": "stdout",
     "output_type": "stream",
     "text": [
      "Imaginary Roots\n",
      "Real parts -0.5\n",
      "Imaginary part 0.7416198487095663\n"
     ]
    }
   ],
   "source": [
    "import math\n",
    "from math import sqrt\n",
    "a = int(input(\"Enter a\"))\n",
    "b = int(input(\"Enter b\"))\n",
    "c = int(input(\"Enter c\"))\n",
    "d = b*b - 4*a*c\n",
    "if d==0: \n",
    "    print(\"R1 :\", (-b)/(2*a))\n",
    "    print(\"R2 :\", (-b)/(2*a))\n",
    "elif d>=0:\n",
    "    print(\"R1 :\", -b + sqrt(d)/(2*a))\n",
    "    print(\"R2 :\", -b - sqrt(d)/(2*a))\n",
    "else:\n",
    "    print(\"Imaginary Roots\")\n",
    "    print(\"Real parts\" , -b/(2*a))\n",
    "    print(\"Imaginary part\" , (sqrt(-1 * d))/(2*a))"
   ]
  },
  {
   "cell_type": "code",
   "execution_count": null,
   "id": "0ac79822-da07-4b38-a0cd-f1c6d83dc85d",
   "metadata": {},
   "outputs": [],
   "source": []
  }
 ],
 "metadata": {
  "kernelspec": {
   "display_name": "Python 3 (ipykernel)",
   "language": "python",
   "name": "python3"
  },
  "language_info": {
   "codemirror_mode": {
    "name": "ipython",
    "version": 3
   },
   "file_extension": ".py",
   "mimetype": "text/x-python",
   "name": "python",
   "nbconvert_exporter": "python",
   "pygments_lexer": "ipython3",
   "version": "3.12.4"
  }
 },
 "nbformat": 4,
 "nbformat_minor": 5
}
